{
 "cells": [
  {
   "cell_type": "code",
   "execution_count": 1,
   "metadata": {},
   "outputs": [],
   "source": [
    "# .venv\\Scripts\\activate"
   ]
  },
  {
   "cell_type": "code",
   "execution_count": 1,
   "metadata": {},
   "outputs": [],
   "source": [
    "import spotipy\n",
    "from spotipy.oauth2 import SpotifyClientCredentials\n",
    "from dotenv import load_dotenv\n",
    "import os\n",
    "import pandas as pd"
   ]
  },
  {
   "cell_type": "code",
   "execution_count": 2,
   "metadata": {},
   "outputs": [
    {
     "data": {
      "text/plain": [
       "True"
      ]
     },
     "execution_count": 2,
     "metadata": {},
     "output_type": "execute_result"
    }
   ],
   "source": [
    "load_dotenv()"
   ]
  },
  {
   "cell_type": "code",
   "execution_count": 3,
   "metadata": {},
   "outputs": [],
   "source": [
    "CLIENT_ID = os.getenv('CLIENT_ID')\n",
    "SECRET_ID = os.getenv('CLIENT_SECRET')\n"
   ]
  },
  {
   "cell_type": "code",
   "execution_count": 4,
   "metadata": {},
   "outputs": [],
   "source": [
    "client_credentials_manager = SpotifyClientCredentials(client_id=CLIENT_ID, client_secret=SECRET_ID)"
   ]
  },
  {
   "cell_type": "code",
   "execution_count": 5,
   "metadata": {},
   "outputs": [],
   "source": [
    "sp = spotipy.Spotify(client_credentials_manager=client_credentials_manager)"
   ]
  },
  {
   "cell_type": "code",
   "execution_count": 6,
   "metadata": {},
   "outputs": [],
   "source": [
    "top_playlist_url = 'https://open.spotify.com/playlist/37i9dQZF1DXcBWIGoYBM5M'"
   ]
  },
  {
   "cell_type": "code",
   "execution_count": 8,
   "metadata": {},
   "outputs": [],
   "source": [
    "data = sp.playlist_tracks(top_playlist_url)"
   ]
  },
  {
   "cell_type": "code",
   "execution_count": 9,
   "metadata": {},
   "outputs": [
    {
     "data": {
      "text/plain": [
       "dict"
      ]
     },
     "execution_count": 9,
     "metadata": {},
     "output_type": "execute_result"
    }
   ],
   "source": [
    "type(data)"
   ]
  },
  {
   "cell_type": "code",
   "execution_count": 85,
   "metadata": {},
   "outputs": [
    {
     "data": {
      "text/plain": [
       "'Chappell Roan'"
      ]
     },
     "execution_count": 85,
     "metadata": {},
     "output_type": "execute_result"
    }
   ],
   "source": [
    "data['items'][0]['track']['artists'][0]['name']"
   ]
  },
  {
   "cell_type": "code",
   "execution_count": null,
   "metadata": {},
   "outputs": [],
   "source": [
    "song_df_list = []\n",
    "for song in data['items']:\n",
    "    song_id = song['track']['id']\n",
    "    song_name = song['track']['name']\n",
    "    duration_ms = song['track']['duration_ms']\n",
    "    url = song['track']['external_urls']['spotify']\n",
    "    popularity = song['track']['popularity']\n",
    "    song_added = song['added_at']\n",
    "    album_id = song['track']['album']['id']\n",
    "    artist_id = song['track']['artists'][0]['id']\n",
    "    row_data = [song_id, song_name, duration_ms, url, popularity, song_added, album_id, artist_id]\n",
    "    song_df_list.append(row_data)\n",
    "song_df_list"
   ]
  },
  {
   "cell_type": "code",
   "execution_count": null,
   "metadata": {},
   "outputs": [],
   "source": [
    "artist_df_list = []\n",
    "for song in data['items']:\n",
    "    artist_id = song['track']['artists'][0]['id']\n",
    "    artist_name = song['track']['artists'][0]['name']\n",
    "    artist_url = song['track']['artists'][0]['external_urls']['spotify']\n",
    "    row_data = [artist_id, artist_name, artist_url]\n",
    "    artist_df_list.append(row_data)\n",
    "artist_df_list"
   ]
  },
  {
   "cell_type": "code",
   "execution_count": null,
   "metadata": {},
   "outputs": [],
   "source": [
    "album_df_list = []\n",
    "for song in data['items']:\n",
    "    album_id = song['track']['album']['id']\n",
    "    album_name = song['track']['album']['name']\n",
    "    release_date = song['track']['album']['release_date']\n",
    "    total_tracks = song['track']['album']['total_tracks']\n",
    "    album_url = song['track']['album']['external_urls']['spotify']\n",
    "    row_data = [album_id, album_name, release_date, total_tracks, album_link]\n",
    "    album_df_list.append(row_data)\n",
    "album_df_list"
   ]
  },
  {
   "cell_type": "code",
   "execution_count": 13,
   "metadata": {},
   "outputs": [],
   "source": [
    "# Test code to understand the json response. \n",
    "# album_id = data['items'][0]['track']['album']['id']\n",
    "# song_name = data['items'][0]['track']['album']['name']\n",
    "# artist_name = data['items'][0]['track']['album']['artists'][0]['name']\n",
    "# release_date = data['items'][0]['track']['album']['release_date']\n",
    "# album_total_tracks = data['items'][0]['track']['album']['total_tracks']\n",
    "# album_link = data['items'][0]['track']['album']['external_urls']['spotify']\n",
    "# song_name = data['items'][0]['track']['name']"
   ]
  },
  {
   "cell_type": "code",
   "execution_count": 87,
   "metadata": {},
   "outputs": [],
   "source": [
    "song_df = pd.DataFrame(song_df_list, columns=['song_id', 'name', 'duration_ms', 'url', 'popularity', 'added_date', 'album_id', 'artist_id'])"
   ]
  },
  {
   "cell_type": "code",
   "execution_count": 89,
   "metadata": {},
   "outputs": [
    {
     "data": {
      "text/html": [
       "<div>\n",
       "<style scoped>\n",
       "    .dataframe tbody tr th:only-of-type {\n",
       "        vertical-align: middle;\n",
       "    }\n",
       "\n",
       "    .dataframe tbody tr th {\n",
       "        vertical-align: top;\n",
       "    }\n",
       "\n",
       "    .dataframe thead th {\n",
       "        text-align: right;\n",
       "    }\n",
       "</style>\n",
       "<table border=\"1\" class=\"dataframe\">\n",
       "  <thead>\n",
       "    <tr style=\"text-align: right;\">\n",
       "      <th></th>\n",
       "      <th>song_id</th>\n",
       "      <th>name</th>\n",
       "      <th>duration_ms</th>\n",
       "      <th>url</th>\n",
       "      <th>popularity</th>\n",
       "      <th>added_date</th>\n",
       "      <th>album_id</th>\n",
       "      <th>artist_id</th>\n",
       "    </tr>\n",
       "  </thead>\n",
       "  <tbody>\n",
       "    <tr>\n",
       "      <th>23</th>\n",
       "      <td>1BJJbSX6muJVF2AK7uH1x4</td>\n",
       "      <td>Move</td>\n",
       "      <td>177598</td>\n",
       "      <td>https://open.spotify.com/track/1BJJbSX6muJVF2A...</td>\n",
       "      <td>90</td>\n",
       "      <td>2024-07-05T04:00:00Z</td>\n",
       "      <td>4M8ThNHbNjda2cPwL8XZHS</td>\n",
       "      <td>2loEsOijJ6XiGzWYFXMIRk</td>\n",
       "    </tr>\n",
       "    <tr>\n",
       "      <th>27</th>\n",
       "      <td>5uQ7de4EWjb3rkcFxyEOpu</td>\n",
       "      <td>Belong Together</td>\n",
       "      <td>148317</td>\n",
       "      <td>https://open.spotify.com/track/5uQ7de4EWjb3rkc...</td>\n",
       "      <td>91</td>\n",
       "      <td>2024-03-29T04:00:00Z</td>\n",
       "      <td>3PlCMwyq6nuQYtoYproV1o</td>\n",
       "      <td>11p2E654TTU8e0nZWBR4AL</td>\n",
       "    </tr>\n",
       "    <tr>\n",
       "      <th>25</th>\n",
       "      <td>2HYFX63wP3otVIvopRS99Z</td>\n",
       "      <td>Houdini</td>\n",
       "      <td>227239</td>\n",
       "      <td>https://open.spotify.com/track/2HYFX63wP3otVIv...</td>\n",
       "      <td>92</td>\n",
       "      <td>2024-06-03T16:40:46Z</td>\n",
       "      <td>6Xuu2z00jxRPZei4IJ9neK</td>\n",
       "      <td>7dGJo4pcD2V6oG8kP0tJRR</td>\n",
       "    </tr>\n",
       "    <tr>\n",
       "      <th>21</th>\n",
       "      <td>4NJqhmkGN042BrvHoMKUrJ</td>\n",
       "      <td>Austin</td>\n",
       "      <td>171782</td>\n",
       "      <td>https://open.spotify.com/track/4NJqhmkGN042Brv...</td>\n",
       "      <td>34</td>\n",
       "      <td>2024-03-15T04:00:00Z</td>\n",
       "      <td>4JtlZzYJEa7bejLF0ASnk0</td>\n",
       "      <td>7Ez6lTtSMjMf2YSYpukP1I</td>\n",
       "    </tr>\n",
       "    <tr>\n",
       "      <th>10</th>\n",
       "      <td>0WbMK4wrZ1wFSty9F7FCgu</td>\n",
       "      <td>Good Luck, Babe!</td>\n",
       "      <td>218423</td>\n",
       "      <td>https://open.spotify.com/track/0WbMK4wrZ1wFSty...</td>\n",
       "      <td>96</td>\n",
       "      <td>2024-04-19T04:01:02Z</td>\n",
       "      <td>1WAjjRMfZjEXtB0lQrAw6Q</td>\n",
       "      <td>7GlBOeep6PqTfFi59PTUUN</td>\n",
       "    </tr>\n",
       "  </tbody>\n",
       "</table>\n",
       "</div>"
      ],
      "text/plain": [
       "                   song_id              name  duration_ms  \\\n",
       "23  1BJJbSX6muJVF2AK7uH1x4              Move       177598   \n",
       "27  5uQ7de4EWjb3rkcFxyEOpu   Belong Together       148317   \n",
       "25  2HYFX63wP3otVIvopRS99Z           Houdini       227239   \n",
       "21  4NJqhmkGN042BrvHoMKUrJ            Austin       171782   \n",
       "10  0WbMK4wrZ1wFSty9F7FCgu  Good Luck, Babe!       218423   \n",
       "\n",
       "                                                  url  popularity  \\\n",
       "23  https://open.spotify.com/track/1BJJbSX6muJVF2A...          90   \n",
       "27  https://open.spotify.com/track/5uQ7de4EWjb3rkc...          91   \n",
       "25  https://open.spotify.com/track/2HYFX63wP3otVIv...          92   \n",
       "21  https://open.spotify.com/track/4NJqhmkGN042Brv...          34   \n",
       "10  https://open.spotify.com/track/0WbMK4wrZ1wFSty...          96   \n",
       "\n",
       "              added_date                album_id               artist_id  \n",
       "23  2024-07-05T04:00:00Z  4M8ThNHbNjda2cPwL8XZHS  2loEsOijJ6XiGzWYFXMIRk  \n",
       "27  2024-03-29T04:00:00Z  3PlCMwyq6nuQYtoYproV1o  11p2E654TTU8e0nZWBR4AL  \n",
       "25  2024-06-03T16:40:46Z  6Xuu2z00jxRPZei4IJ9neK  7dGJo4pcD2V6oG8kP0tJRR  \n",
       "21  2024-03-15T04:00:00Z  4JtlZzYJEa7bejLF0ASnk0  7Ez6lTtSMjMf2YSYpukP1I  \n",
       "10  2024-04-19T04:01:02Z  1WAjjRMfZjEXtB0lQrAw6Q  7GlBOeep6PqTfFi59PTUUN  "
      ]
     },
     "execution_count": 89,
     "metadata": {},
     "output_type": "execute_result"
    }
   ],
   "source": [
    "song_df.sample(5)\n"
   ]
  },
  {
   "cell_type": "code",
   "execution_count": 70,
   "metadata": {},
   "outputs": [],
   "source": [
    "artist_df = pd.DataFrame(artist_df_list, columns=['artist_id', 'name', 'url'])"
   ]
  },
  {
   "cell_type": "code",
   "execution_count": 75,
   "metadata": {},
   "outputs": [],
   "source": [
    "artist_df.drop_duplicates(subset='artist_id', keep='first', inplace=True, ignore_index=True)"
   ]
  },
  {
   "cell_type": "code",
   "execution_count": 76,
   "metadata": {},
   "outputs": [
    {
     "data": {
      "text/html": [
       "<div>\n",
       "<style scoped>\n",
       "    .dataframe tbody tr th:only-of-type {\n",
       "        vertical-align: middle;\n",
       "    }\n",
       "\n",
       "    .dataframe tbody tr th {\n",
       "        vertical-align: top;\n",
       "    }\n",
       "\n",
       "    .dataframe thead th {\n",
       "        text-align: right;\n",
       "    }\n",
       "</style>\n",
       "<table border=\"1\" class=\"dataframe\">\n",
       "  <thead>\n",
       "    <tr style=\"text-align: right;\">\n",
       "      <th></th>\n",
       "      <th>artist_id</th>\n",
       "      <th>name</th>\n",
       "      <th>url</th>\n",
       "    </tr>\n",
       "  </thead>\n",
       "  <tbody>\n",
       "    <tr>\n",
       "      <th>0</th>\n",
       "      <td>7GlBOeep6PqTfFi59PTUUN</td>\n",
       "      <td>Chappell Roan</td>\n",
       "      <td>https://open.spotify.com/artist/7GlBOeep6PqTfF...</td>\n",
       "    </tr>\n",
       "    <tr>\n",
       "      <th>1</th>\n",
       "      <td>6qqNVTkY8uBg9cP3Jd7DAH</td>\n",
       "      <td>Billie Eilish</td>\n",
       "      <td>https://open.spotify.com/artist/6qqNVTkY8uBg9c...</td>\n",
       "    </tr>\n",
       "    <tr>\n",
       "      <th>2</th>\n",
       "      <td>74KM79TiuVKeVCqs8QtB0B</td>\n",
       "      <td>Sabrina Carpenter</td>\n",
       "      <td>https://open.spotify.com/artist/74KM79TiuVKeVC...</td>\n",
       "    </tr>\n",
       "    <tr>\n",
       "      <th>3</th>\n",
       "      <td>25uiPmTg16RbhZWAqwLBy5</td>\n",
       "      <td>Charli xcx</td>\n",
       "      <td>https://open.spotify.com/artist/25uiPmTg16RbhZ...</td>\n",
       "    </tr>\n",
       "    <tr>\n",
       "      <th>4</th>\n",
       "      <td>22wbnEMDvgVIAGdFeek6ET</td>\n",
       "      <td>Benson Boone</td>\n",
       "      <td>https://open.spotify.com/artist/22wbnEMDvgVIAG...</td>\n",
       "    </tr>\n",
       "  </tbody>\n",
       "</table>\n",
       "</div>"
      ],
      "text/plain": [
       "                artist_id               name  \\\n",
       "0  7GlBOeep6PqTfFi59PTUUN      Chappell Roan   \n",
       "1  6qqNVTkY8uBg9cP3Jd7DAH      Billie Eilish   \n",
       "2  74KM79TiuVKeVCqs8QtB0B  Sabrina Carpenter   \n",
       "3  25uiPmTg16RbhZWAqwLBy5         Charli xcx   \n",
       "4  22wbnEMDvgVIAGdFeek6ET       Benson Boone   \n",
       "\n",
       "                                                 url  \n",
       "0  https://open.spotify.com/artist/7GlBOeep6PqTfF...  \n",
       "1  https://open.spotify.com/artist/6qqNVTkY8uBg9c...  \n",
       "2  https://open.spotify.com/artist/74KM79TiuVKeVC...  \n",
       "3  https://open.spotify.com/artist/25uiPmTg16RbhZ...  \n",
       "4  https://open.spotify.com/artist/22wbnEMDvgVIAG...  "
      ]
     },
     "execution_count": 76,
     "metadata": {},
     "output_type": "execute_result"
    }
   ],
   "source": [
    "artist_df.head()"
   ]
  },
  {
   "cell_type": "code",
   "execution_count": 37,
   "metadata": {},
   "outputs": [],
   "source": [
    "album_df = pd.DataFrame(album_df_list, columns=['album_id', 'name', 'release_date', 'total_tracks', 'url'])"
   ]
  },
  {
   "cell_type": "code",
   "execution_count": 62,
   "metadata": {},
   "outputs": [],
   "source": [
    "album_df.drop_duplicates(subset='album_id', keep='first', inplace=True, ignore_index=True)"
   ]
  },
  {
   "cell_type": "code",
   "execution_count": 69,
   "metadata": {},
   "outputs": [
    {
     "data": {
      "text/html": [
       "<div>\n",
       "<style scoped>\n",
       "    .dataframe tbody tr th:only-of-type {\n",
       "        vertical-align: middle;\n",
       "    }\n",
       "\n",
       "    .dataframe tbody tr th {\n",
       "        vertical-align: top;\n",
       "    }\n",
       "\n",
       "    .dataframe thead th {\n",
       "        text-align: right;\n",
       "    }\n",
       "</style>\n",
       "<table border=\"1\" class=\"dataframe\">\n",
       "  <thead>\n",
       "    <tr style=\"text-align: right;\">\n",
       "      <th></th>\n",
       "      <th>album_id</th>\n",
       "      <th>name</th>\n",
       "      <th>release_date</th>\n",
       "      <th>total_tracks</th>\n",
       "      <th>url</th>\n",
       "    </tr>\n",
       "  </thead>\n",
       "  <tbody>\n",
       "    <tr>\n",
       "      <th>0</th>\n",
       "      <td>0EiI8ylL0FmWWpgHVTsZjZ</td>\n",
       "      <td>The Rise and Fall of a Midwest Princess</td>\n",
       "      <td>2023-09-22</td>\n",
       "      <td>14</td>\n",
       "      <td>https://open.spotify.com/album/22sXXkKgjEuawIF...</td>\n",
       "    </tr>\n",
       "    <tr>\n",
       "      <th>1</th>\n",
       "      <td>7aJuG4TFXa2hmE4z1yxc3n</td>\n",
       "      <td>HIT ME HARD AND SOFT</td>\n",
       "      <td>2024-05-17</td>\n",
       "      <td>10</td>\n",
       "      <td>https://open.spotify.com/album/22sXXkKgjEuawIF...</td>\n",
       "    </tr>\n",
       "    <tr>\n",
       "      <th>2</th>\n",
       "      <td>5bBaoign62r1i7OV8w7mi9</td>\n",
       "      <td>Please Please Please</td>\n",
       "      <td>2024-06-06</td>\n",
       "      <td>2</td>\n",
       "      <td>https://open.spotify.com/album/22sXXkKgjEuawIF...</td>\n",
       "    </tr>\n",
       "    <tr>\n",
       "      <th>3</th>\n",
       "      <td>2lIZef4lzdvZkiiCzvPKj7</td>\n",
       "      <td>BRAT</td>\n",
       "      <td>2024-06-07</td>\n",
       "      <td>15</td>\n",
       "      <td>https://open.spotify.com/album/22sXXkKgjEuawIF...</td>\n",
       "    </tr>\n",
       "    <tr>\n",
       "      <th>4</th>\n",
       "      <td>168CdR21lfn0TTyw1Pkdcm</td>\n",
       "      <td>Fireworks &amp; Rollerblades</td>\n",
       "      <td>2024-04-05</td>\n",
       "      <td>15</td>\n",
       "      <td>https://open.spotify.com/album/22sXXkKgjEuawIF...</td>\n",
       "    </tr>\n",
       "  </tbody>\n",
       "</table>\n",
       "</div>"
      ],
      "text/plain": [
       "                 album_id                                     name  \\\n",
       "0  0EiI8ylL0FmWWpgHVTsZjZ  The Rise and Fall of a Midwest Princess   \n",
       "1  7aJuG4TFXa2hmE4z1yxc3n                     HIT ME HARD AND SOFT   \n",
       "2  5bBaoign62r1i7OV8w7mi9                     Please Please Please   \n",
       "3  2lIZef4lzdvZkiiCzvPKj7                                     BRAT   \n",
       "4  168CdR21lfn0TTyw1Pkdcm                 Fireworks & Rollerblades   \n",
       "\n",
       "  release_date  total_tracks  \\\n",
       "0   2023-09-22            14   \n",
       "1   2024-05-17            10   \n",
       "2   2024-06-06             2   \n",
       "3   2024-06-07            15   \n",
       "4   2024-04-05            15   \n",
       "\n",
       "                                                 url  \n",
       "0  https://open.spotify.com/album/22sXXkKgjEuawIF...  \n",
       "1  https://open.spotify.com/album/22sXXkKgjEuawIF...  \n",
       "2  https://open.spotify.com/album/22sXXkKgjEuawIF...  \n",
       "3  https://open.spotify.com/album/22sXXkKgjEuawIF...  \n",
       "4  https://open.spotify.com/album/22sXXkKgjEuawIF...  "
      ]
     },
     "execution_count": 69,
     "metadata": {},
     "output_type": "execute_result"
    }
   ],
   "source": [
    "album_df.head()\n"
   ]
  }
 ],
 "metadata": {
  "kernelspec": {
   "display_name": "Python (spotify_env)",
   "language": "python",
   "name": "spotify_env"
  },
  "language_info": {
   "codemirror_mode": {
    "name": "ipython",
    "version": 3
   },
   "file_extension": ".py",
   "mimetype": "text/x-python",
   "name": "python",
   "nbconvert_exporter": "python",
   "pygments_lexer": "ipython3",
   "version": "3.12.1"
  }
 },
 "nbformat": 4,
 "nbformat_minor": 2
}
